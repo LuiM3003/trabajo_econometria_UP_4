{
 "cells": [
  {
   "cell_type": "markdown",
   "metadata": {},
   "source": [
    "# MODELO \n"
   ]
  },
  {
   "cell_type": "markdown",
   "metadata": {},
   "source": [
    "## Objetivo del modelo: Estimar la probabilidad P() de que en el municipio i las mujeres sufran violencia "
   ]
  },
  {
   "cell_type": "markdown",
   "metadata": {},
   "source": [
    "## A)  Motivación de la investigación \n",
    "\n",
    "   La violencia contra la mujer es una violación a sus derechos humanos y representa un problema de salud pública en todo el mundo. En México el feminicidio ha alcanzado proporciones alarmantes, en promedio 10 mujeres son asesinadas al día. En los últimos 25 años ocurrieron más de 35 mil defunciones de mujeres con presunción de homicidio. Según datos de la Encuesta Nacional sobre la Dinámica de las Relaciones en los Hogares (ENDIREH) 2011, en el país  63 de cada 100 mujeres de 15 años y más han padecido algún incidente de violencia lo largo de su vida, mientas que en el año previo a la entrevista la cifra fue de 40%. \n",
    "\n",
    "   Reconociendo la gravedad del problema que vive el país en la actualidad respecto a la violencia de género, las principales razones por las que ha surgido esta idea y que dan fuerza a la investigación son:\n",
    "\n",
    "  1. La necesidad de intervenir de forma eficaz para el control y erradicación de la violencia contra las mujeres.Este proyecto se podría considerar como una herramienta de un estudio mayor para la elaboración de políticas públicas enfocadas en atender las  zonas conflictivas. \n",
    "\n",
    "  2. La oportunidad de poder aprovechar los conocimientos en econometría y estadística para su aplicación en\n",
    "    problemas sociales como el que se analizará en este proyecto.\n",
    "    \n",
    "  3. La poca investigación en el riesgo de violencia contra las mujeres en nuestro país. \n",
    "    \n",
    "  4. Por ser un tema actual  que ha aumentado progresivamente en los últimos años y que involucra a todos dado \n",
    "    que la experiencia de la violencia en la mujer tiene consecuencias directas no sólo para su propio bienestar,\n",
    "    sino también para el de sus familias, comunidades e incluso consecuencias intergeneracionales. \n",
    "\n"
   ]
  },
  {
   "cell_type": "markdown",
   "metadata": {},
   "source": [
    "## B)  Especificación y justificación del modelo "
   ]
  },
  {
   "cell_type": "markdown",
   "metadata": {},
   "source": [
    "$$Y_i=G(\\alpha+ \\beta_1*Escolaridad \\ Promedio_i+ \\beta_2*Desempleo_i+ \\beta_3*Pobreza_i+ \\beta_4*Jefatura \\ Femenina_i+ \\ u_i)$$"
   ]
  },
  {
   "cell_type": "markdown",
   "metadata": {},
   "source": [
    "### Variables\n",
    "\n",
    "i's = municipios en México \n",
    "\n",
    "𝑌𝑖 = 1 Si el número de feminicidios por 100 mil habitantes en el municipio i es mayor o igual que el promedio nacional \n",
    "\n",
    "𝐸𝑠𝑐𝑜𝑙𝑎𝑟𝑖𝑑𝑎𝑑 𝑃𝑟𝑜𝑚𝑒𝑑𝑖𝑜 𝑖 = Años de escolaridad promedio en el municipio i\n",
    "\n",
    "𝐷𝑒𝑠𝑒𝑚𝑝𝑙𝑒𝑜 𝑖 = Tasa de desempleo en el municipio i\n",
    "\n",
    "𝑃𝑜𝑏𝑟𝑒𝑧𝑎 𝑖 = Porcentaje de pobreza en el municipio i\n",
    "\n",
    "𝐽𝑒𝑓𝑎𝑡𝑢𝑟𝑎 𝐹𝑒𝑚𝑒𝑛𝑖𝑛𝑎 𝑖 = Porcentaje de hogares con jefatura femenina en el municipio i\n",
    "\n",
    "\n",
    "n = 2457 municipios\n",
    "\n"
   ]
  },
  {
   "cell_type": "markdown",
   "metadata": {},
   "source": [
    "### Justificación del modelo y las variables \n",
    "\n",
    "Diversos estudios identifican que la probabilidad de sufrir violencia de género es 2.5 veces mayor  en las mujeres pobres que las que pertenecen a un quintil más rico. Las mujeres que viven en pobreza son más vulnerables  a la explotación sexual.  Las mujeres que viven en pobreza, especialmente en países pobres, se enfrentan a muchas dificultades para poder escapar de la violencia de género. Una de ellas es la falta de independencia económica y menos vías de escape. Las mujeres que sufren violencia por parte de un compañero tienen un mayor índice de absentismo en el trabajo, menor productividad y por ende, menos  ganancias  que las mujeres que no sufren abusos. \n",
    "\n",
    "Según el documento desarrollado por Amnistía Internacional denominado “La trampa del género. Mujeres, Violencia y Pobreza”, la pobreza para las mujeres es a la vez causa y consecuencia de la violencia. Las mujeres que sufren algún tipo de violencia, ya sea  física, sexual o psicológica, pierden ingresos y ven afectada su capacidad productiva. Dicha violencia empobrece a las familias, comunidades y  sociedades. La violencia que enfrentan contribuye a mantenerlas en la pobreza y son ellas las que más expuestas están. \n",
    "\n",
    "La participación de las mujeres en los distintos ámbitos de la sociedad no les ha garantizado reconocimiento ni mejoras en su calidad de vida, por lo que tienen un acceso limitado a las posiciones de influencia, poder y de contribución económica. Las mujeres y niñas llevan la carga del trabajo doméstico, y en tiempo de crisis aún más responsabilidades.  Por ejemplo, las mujeres del medio rural pasan la mayor parte del tiempo, buscando agua, recogiendo leña  o trabajando en el campo, y a su vez  cuidando a sus hijos; sin embargo, su trabajo no es remunerado  y su importancia no es reconocida. Las opciones laborales son estrechas y obtienen menos ingresos que los hombres desempeñando el mismo trabajo. A pesar de ello el incremento de su participación en la esfera productiva  ha generado un ascenso en el número de hogares con jefaturas femeninas  sin que las relaciones  de género y las responsabilidades familiares entre los integrantes  cambien.\n",
    "\n",
    "Actualmente vivimos un proceso de modernización donde los roles  masculino y femenino viven en constante transformación por el cambio cultural. La liberalización femenina  propició la incursión de la mujer en el campo laboral y educativa; sin embargo, el país sigue rezagado en comparación con otros países. Un documento realizado por el Centro de Investigación y Docencia Económica y el equipo de Data Cívica señala que la mayoría de víctimas de homicidio son personas cuya escolaridad es de preescolar, primaria y secundaria. El 23.4% de las mujeres asesinadas tenían una escolaridad de secundaria. La violencia homicida no ha impactado a toda la población por igual, sino que ha tenido un efecto desproporcionado sobre quienes no han tenido acceso a la educación.\n",
    "\n",
    "En el artículo  desarrollado por  Fredi Jawad , Sushanta K. Mallick para Journal of Economic Behavior and Organization, los investigadores se concentran en establecer una conexión robusta entre el desempleo y el crimen. Para este estudio, se utilizó  información de Francia y Reino Unido para encontrar el efecto positivo para estas dos variables, y donde se halló que dicha relación incrementa en contracciones económicas. La literatura nos indica que la criminalidad y el desempleo son dos problemas importantes que afectan negativamente el bienestar  y  la vida de  aquellas personas que cometen crímenes  debido a que están desempleadas. \n",
    "\n",
    "Según el Banco Mundial, se estableció  que tanto el crimen como la violencia afectan significativamente índices socioeconómicos de un país. Un mayor desempleo implica menor calidad de vida, y mayor incidencia en cometer actos delictivos. \n"
   ]
  },
  {
   "cell_type": "markdown",
   "metadata": {},
   "source": [
    "### Base de datos \n",
    "La información sobre nuestras variables dependientes se encuentra tanto en encuestas , en base de datos capturado por el INEGI (Instituto Nacional de Estadística y geografía)  y por parte del gobierno federal a través de  Secretariado Ejecutivo del Sistema de Seguridad Pública. \n",
    "\n",
    "El Secretariado Ejecutivo del Sistema de Seguridad Pública es un Órgano administrativo Desconcentrado de la Secretaria de Gobernación el cual coordina las instancias federales, estatales y municipales responsables de la función de salvaguardar la integridad de las personas, la seguridad ciudadana, así como de preservar el orden y la paz públicos. A través de su plataforma se puede encontrar datos sobre la violencia contra las mujeres (incidencia delictiva y llamadas de emergía 911) desde el año 2015 hasta febrero del año en curso.  En dichos datos el Secretariado cuenta con la media nacional de feminicidios ocurridos. \n",
    "\n",
    "Nuestra segunda base de datos importante es el Sistema de Indicadores de Género del 2015 puesta a disposición por parte del Instituto Nacional de las Mujeres. La base nos ofrece información estadística sobre diferentes temas que nos arrojan un panorama de la situación de la mujeres y hombres en México. Los datos se obtienen a través de censos, conteos, encuestas y registros administrativos los cuales contiene información sobre población, fecundidad, mortalidad y migración, así como salud, educación trabajo , poblaciones indígenas, violencia y uso de tiempo.  A través de este sistema se obtiene información de las variables independientes para determinar la probabilidad de feminicidio de un municipio. Por otro lado, los datos referentes a la pobreza y el desempleo se obtuvieron de la Encuesta Intercensal 2015 del INEGI\n",
    "\n"
   ]
  },
  {
   "cell_type": "markdown",
   "metadata": {},
   "source": [
    "## C)  Literatura a revisar para el fortalecimiento de la teoría y futuras extensiones\n",
    "\n",
    "   Estudios sobre el feminicidio en México: Feminicidio Aproximaciones, tendencias y cambios 1985-2009 y Violencia feminicida en México. Características, tendencias y nuevas expresiones en las entidades federativas 1985-2010 \n",
    "   \n",
    "   Fuente: https://www2.unwomen.org/-/media/field%20office%20mexico/documentos/publicaciones/2016/02/violencia%20feminicida%20en%20m%C3%A9xico%20aproximaciones%20y%20tendencias%201985_2014.pdf?la=es&vs=4527\n",
    "   \n",
    "   Violencia contra la mujer.  (Organización Mundial de la Salud)\n",
    "   \n",
    "   Fuente: https://www.who.int/gender/violence/violencia_infopack1.pdf\n",
    "   \n",
    "   Estudio Nacional sobre las fuentes, orígenes y factores que producen y reproducen la violencia contra las mujeres (CONAVIM)\n",
    "\n",
    "   Fuente: http://www.conavim.gob.mx/work/models/CONAVIM/Resource/103/1/images/EstudiosNacionalesTomoIVolumenI.pdf\n",
    "   \n",
    "   INEGI. Estadísticas a propósito del Día Internacional de la Eliminación de la violencia contra la mujer (25 de noviembre). Aguascalientes, México: INEGI; 2016. \n",
    "   \n",
    "   Fuente: https://www.inegi.org.mx/contenidos/saladeprensa/aproposito/2018/violencia2018_Nal.pdf \n",
    "\n",
    "   Casique I. Vulnerabilidad a la violencia doméstica. Una propuesta de indicadores para su medición. Rev Int Estadística y Geogr. 2012\n",
    " \n",
    "   Fuente: https://www.inegi.org.mx/rde/RDE_06/Doctos/RDE_06_Art4.pdf\n",
    " \n",
    "   Modelo ecológico para una vida libre de violencia; 2011 (CONAVIM)\n",
    "  \n",
    "   Fuente: http://cedoc.inmujeres.gob.mx/lgamvlv/MoDecoFinalPDF.pdf\n",
    "\n",
    "   Evaluación del riesgo de violencia de pareja; 2007\n",
    "   \n",
    "   Fuente: http://cejfe.gencat.cat/web/.content/home/recerca/cataleg/crono/2007/prediccionViolenciaMujeres_ES.pdf\n",
    "   \n",
    "   Bejarano, Margarita. \"El feminicidio es solo la punta del iceberg\"(2014) \n",
    "   \n",
    "   Fuente: http://www.scielo.org.mx/scielo.php?script=sci_arttext&pid=S1870-39252014000600002"
   ]
  }
 ],
 "metadata": {
  "kernelspec": {
   "display_name": "Python 3",
   "language": "python",
   "name": "python3"
  },
  "language_info": {
   "codemirror_mode": {
    "name": "ipython",
    "version": 3
   },
   "file_extension": ".py",
   "mimetype": "text/x-python",
   "name": "python",
   "nbconvert_exporter": "python",
   "pygments_lexer": "ipython3",
   "version": "3.7.4"
  }
 },
 "nbformat": 4,
 "nbformat_minor": 2
}
